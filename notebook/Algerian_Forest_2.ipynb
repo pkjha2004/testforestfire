{
 "cells": [
  {
   "cell_type": "code",
   "execution_count": 97,
   "id": "e46eb3eb-81ac-49a8-b041-5ceb3d9133d2",
   "metadata": {},
   "outputs": [],
   "source": [
    "import pandas as pd\n",
    "import numpy as np\n",
    "import matplotlib.pyplot as plt\n",
    "%matplotlib inline\n",
    "import seaborn as sns"
   ]
  },
  {
   "cell_type": "code",
   "execution_count": 98,
   "id": "e3e1ee8a-52cd-4ac4-8f8c-47815034b1f7",
   "metadata": {},
   "outputs": [],
   "source": [
    "df = pd.read_csv('cleaned_Algerian_Forest')"
   ]
  },
  {
   "cell_type": "code",
   "execution_count": 99,
   "id": "f1236236-1ce4-4506-9146-21a99da81185",
   "metadata": {},
   "outputs": [
    {
     "data": {
      "text/html": [
       "<div>\n",
       "<style scoped>\n",
       "    .dataframe tbody tr th:only-of-type {\n",
       "        vertical-align: middle;\n",
       "    }\n",
       "\n",
       "    .dataframe tbody tr th {\n",
       "        vertical-align: top;\n",
       "    }\n",
       "\n",
       "    .dataframe thead th {\n",
       "        text-align: right;\n",
       "    }\n",
       "</style>\n",
       "<table border=\"1\" class=\"dataframe\">\n",
       "  <thead>\n",
       "    <tr style=\"text-align: right;\">\n",
       "      <th></th>\n",
       "      <th>day</th>\n",
       "      <th>month</th>\n",
       "      <th>year</th>\n",
       "      <th>Temperature</th>\n",
       "      <th>RH</th>\n",
       "      <th>Ws</th>\n",
       "      <th>Rain</th>\n",
       "      <th>FFMC</th>\n",
       "      <th>DMC</th>\n",
       "      <th>DC</th>\n",
       "      <th>ISI</th>\n",
       "      <th>BUI</th>\n",
       "      <th>FWI</th>\n",
       "      <th>Region</th>\n",
       "      <th>Classes</th>\n",
       "    </tr>\n",
       "  </thead>\n",
       "  <tbody>\n",
       "    <tr>\n",
       "      <th>0</th>\n",
       "      <td>1</td>\n",
       "      <td>6</td>\n",
       "      <td>2012</td>\n",
       "      <td>29</td>\n",
       "      <td>57</td>\n",
       "      <td>18</td>\n",
       "      <td>0</td>\n",
       "      <td>65.7</td>\n",
       "      <td>3.4</td>\n",
       "      <td>7.6</td>\n",
       "      <td>1.3</td>\n",
       "      <td>3.4</td>\n",
       "      <td>0.5</td>\n",
       "      <td>0</td>\n",
       "      <td>0</td>\n",
       "    </tr>\n",
       "    <tr>\n",
       "      <th>1</th>\n",
       "      <td>2</td>\n",
       "      <td>6</td>\n",
       "      <td>2012</td>\n",
       "      <td>29</td>\n",
       "      <td>61</td>\n",
       "      <td>13</td>\n",
       "      <td>1</td>\n",
       "      <td>64.4</td>\n",
       "      <td>4.1</td>\n",
       "      <td>7.6</td>\n",
       "      <td>1.0</td>\n",
       "      <td>3.9</td>\n",
       "      <td>0.4</td>\n",
       "      <td>0</td>\n",
       "      <td>0</td>\n",
       "    </tr>\n",
       "    <tr>\n",
       "      <th>2</th>\n",
       "      <td>3</td>\n",
       "      <td>6</td>\n",
       "      <td>2012</td>\n",
       "      <td>26</td>\n",
       "      <td>82</td>\n",
       "      <td>22</td>\n",
       "      <td>13</td>\n",
       "      <td>47.1</td>\n",
       "      <td>2.5</td>\n",
       "      <td>7.1</td>\n",
       "      <td>0.3</td>\n",
       "      <td>2.7</td>\n",
       "      <td>0.1</td>\n",
       "      <td>0</td>\n",
       "      <td>0</td>\n",
       "    </tr>\n",
       "    <tr>\n",
       "      <th>3</th>\n",
       "      <td>4</td>\n",
       "      <td>6</td>\n",
       "      <td>2012</td>\n",
       "      <td>25</td>\n",
       "      <td>89</td>\n",
       "      <td>13</td>\n",
       "      <td>2</td>\n",
       "      <td>28.6</td>\n",
       "      <td>1.3</td>\n",
       "      <td>6.9</td>\n",
       "      <td>0.0</td>\n",
       "      <td>1.7</td>\n",
       "      <td>0.0</td>\n",
       "      <td>0</td>\n",
       "      <td>0</td>\n",
       "    </tr>\n",
       "    <tr>\n",
       "      <th>4</th>\n",
       "      <td>5</td>\n",
       "      <td>6</td>\n",
       "      <td>2012</td>\n",
       "      <td>27</td>\n",
       "      <td>77</td>\n",
       "      <td>16</td>\n",
       "      <td>0</td>\n",
       "      <td>64.8</td>\n",
       "      <td>3.0</td>\n",
       "      <td>14.2</td>\n",
       "      <td>1.2</td>\n",
       "      <td>3.9</td>\n",
       "      <td>0.5</td>\n",
       "      <td>0</td>\n",
       "      <td>0</td>\n",
       "    </tr>\n",
       "  </tbody>\n",
       "</table>\n",
       "</div>"
      ],
      "text/plain": [
       "   day  month  year  Temperature  RH  Ws  Rain  FFMC  DMC    DC  ISI  BUI  \\\n",
       "0    1      6  2012           29  57  18     0  65.7  3.4   7.6  1.3  3.4   \n",
       "1    2      6  2012           29  61  13     1  64.4  4.1   7.6  1.0  3.9   \n",
       "2    3      6  2012           26  82  22    13  47.1  2.5   7.1  0.3  2.7   \n",
       "3    4      6  2012           25  89  13     2  28.6  1.3   6.9  0.0  1.7   \n",
       "4    5      6  2012           27  77  16     0  64.8  3.0  14.2  1.2  3.9   \n",
       "\n",
       "   FWI  Region  Classes  \n",
       "0  0.5       0        0  \n",
       "1  0.4       0        0  \n",
       "2  0.1       0        0  \n",
       "3  0.0       0        0  \n",
       "4  0.5       0        0  "
      ]
     },
     "execution_count": 99,
     "metadata": {},
     "output_type": "execute_result"
    }
   ],
   "source": [
    "df.head()"
   ]
  },
  {
   "cell_type": "code",
   "execution_count": 100,
   "id": "0aca3907-4f43-45b1-941f-785400a9fba6",
   "metadata": {},
   "outputs": [
    {
     "data": {
      "text/plain": [
       "Index(['day', 'month', 'year', 'Temperature', 'RH', 'Ws', 'Rain', 'FFMC',\n",
       "       'DMC', 'DC', 'ISI', 'BUI', 'FWI', 'Region', 'Classes'],\n",
       "      dtype='object')"
      ]
     },
     "execution_count": 100,
     "metadata": {},
     "output_type": "execute_result"
    }
   ],
   "source": [
    "df.columns"
   ]
  },
  {
   "cell_type": "code",
   "execution_count": 101,
   "id": "38af32b1-d573-4f69-958b-2df5b2803876",
   "metadata": {},
   "outputs": [],
   "source": [
    "df.drop(columns = ['day','month','year'],axis = 1,inplace = True)"
   ]
  },
  {
   "cell_type": "code",
   "execution_count": 102,
   "id": "302434d1-c704-4614-b8d9-de827743e40d",
   "metadata": {},
   "outputs": [
    {
     "data": {
      "text/html": [
       "<div>\n",
       "<style scoped>\n",
       "    .dataframe tbody tr th:only-of-type {\n",
       "        vertical-align: middle;\n",
       "    }\n",
       "\n",
       "    .dataframe tbody tr th {\n",
       "        vertical-align: top;\n",
       "    }\n",
       "\n",
       "    .dataframe thead th {\n",
       "        text-align: right;\n",
       "    }\n",
       "</style>\n",
       "<table border=\"1\" class=\"dataframe\">\n",
       "  <thead>\n",
       "    <tr style=\"text-align: right;\">\n",
       "      <th></th>\n",
       "      <th>Temperature</th>\n",
       "      <th>RH</th>\n",
       "      <th>Ws</th>\n",
       "      <th>Rain</th>\n",
       "      <th>FFMC</th>\n",
       "      <th>DMC</th>\n",
       "      <th>DC</th>\n",
       "      <th>ISI</th>\n",
       "      <th>BUI</th>\n",
       "      <th>FWI</th>\n",
       "      <th>Region</th>\n",
       "      <th>Classes</th>\n",
       "    </tr>\n",
       "  </thead>\n",
       "  <tbody>\n",
       "    <tr>\n",
       "      <th>0</th>\n",
       "      <td>29</td>\n",
       "      <td>57</td>\n",
       "      <td>18</td>\n",
       "      <td>0</td>\n",
       "      <td>65.7</td>\n",
       "      <td>3.4</td>\n",
       "      <td>7.6</td>\n",
       "      <td>1.3</td>\n",
       "      <td>3.4</td>\n",
       "      <td>0.5</td>\n",
       "      <td>0</td>\n",
       "      <td>0</td>\n",
       "    </tr>\n",
       "    <tr>\n",
       "      <th>1</th>\n",
       "      <td>29</td>\n",
       "      <td>61</td>\n",
       "      <td>13</td>\n",
       "      <td>1</td>\n",
       "      <td>64.4</td>\n",
       "      <td>4.1</td>\n",
       "      <td>7.6</td>\n",
       "      <td>1.0</td>\n",
       "      <td>3.9</td>\n",
       "      <td>0.4</td>\n",
       "      <td>0</td>\n",
       "      <td>0</td>\n",
       "    </tr>\n",
       "    <tr>\n",
       "      <th>2</th>\n",
       "      <td>26</td>\n",
       "      <td>82</td>\n",
       "      <td>22</td>\n",
       "      <td>13</td>\n",
       "      <td>47.1</td>\n",
       "      <td>2.5</td>\n",
       "      <td>7.1</td>\n",
       "      <td>0.3</td>\n",
       "      <td>2.7</td>\n",
       "      <td>0.1</td>\n",
       "      <td>0</td>\n",
       "      <td>0</td>\n",
       "    </tr>\n",
       "    <tr>\n",
       "      <th>3</th>\n",
       "      <td>25</td>\n",
       "      <td>89</td>\n",
       "      <td>13</td>\n",
       "      <td>2</td>\n",
       "      <td>28.6</td>\n",
       "      <td>1.3</td>\n",
       "      <td>6.9</td>\n",
       "      <td>0.0</td>\n",
       "      <td>1.7</td>\n",
       "      <td>0.0</td>\n",
       "      <td>0</td>\n",
       "      <td>0</td>\n",
       "    </tr>\n",
       "    <tr>\n",
       "      <th>4</th>\n",
       "      <td>27</td>\n",
       "      <td>77</td>\n",
       "      <td>16</td>\n",
       "      <td>0</td>\n",
       "      <td>64.8</td>\n",
       "      <td>3.0</td>\n",
       "      <td>14.2</td>\n",
       "      <td>1.2</td>\n",
       "      <td>3.9</td>\n",
       "      <td>0.5</td>\n",
       "      <td>0</td>\n",
       "      <td>0</td>\n",
       "    </tr>\n",
       "  </tbody>\n",
       "</table>\n",
       "</div>"
      ],
      "text/plain": [
       "   Temperature  RH  Ws  Rain  FFMC  DMC    DC  ISI  BUI  FWI  Region  Classes\n",
       "0           29  57  18     0  65.7  3.4   7.6  1.3  3.4  0.5       0        0\n",
       "1           29  61  13     1  64.4  4.1   7.6  1.0  3.9  0.4       0        0\n",
       "2           26  82  22    13  47.1  2.5   7.1  0.3  2.7  0.1       0        0\n",
       "3           25  89  13     2  28.6  1.3   6.9  0.0  1.7  0.0       0        0\n",
       "4           27  77  16     0  64.8  3.0  14.2  1.2  3.9  0.5       0        0"
      ]
     },
     "execution_count": 102,
     "metadata": {},
     "output_type": "execute_result"
    }
   ],
   "source": [
    "df.head()"
   ]
  },
  {
   "cell_type": "code",
   "execution_count": 103,
   "id": "d9b37cc7-a491-4a64-8984-f2d11dc43c35",
   "metadata": {},
   "outputs": [
    {
     "data": {
      "text/plain": [
       "1    138\n",
       "0    107\n",
       "Name: Classes, dtype: int64"
      ]
     },
     "execution_count": 103,
     "metadata": {},
     "output_type": "execute_result"
    }
   ],
   "source": [
    "df['Classes'].value_counts()"
   ]
  },
  {
   "cell_type": "code",
   "execution_count": 104,
   "id": "98766910-ea45-4e0a-ad22-9ad1fac83d2f",
   "metadata": {},
   "outputs": [],
   "source": [
    "###independent and dependent feature\n",
    "x = df.drop('FWI',axis = 1)\n",
    "y = df['FWI']"
   ]
  },
  {
   "cell_type": "code",
   "execution_count": 105,
   "id": "c90cce12-1680-482f-a91f-448e8d61eb96",
   "metadata": {},
   "outputs": [
    {
     "data": {
      "text/plain": [
       "(245, 11)"
      ]
     },
     "execution_count": 105,
     "metadata": {},
     "output_type": "execute_result"
    }
   ],
   "source": [
    "x.shape"
   ]
  },
  {
   "cell_type": "code",
   "execution_count": 106,
   "id": "949ad8e0-b4cb-4472-ab9b-36d9957765d6",
   "metadata": {},
   "outputs": [
    {
     "data": {
      "text/plain": [
       "(245,)"
      ]
     },
     "execution_count": 106,
     "metadata": {},
     "output_type": "execute_result"
    }
   ],
   "source": [
    "y.shape"
   ]
  },
  {
   "cell_type": "code",
   "execution_count": 107,
   "id": "67782019-ab56-4fc6-8325-6e1c6bebcf20",
   "metadata": {},
   "outputs": [],
   "source": [
    "## Train Test Split\n",
    "from sklearn.model_selection import train_test_split"
   ]
  },
  {
   "cell_type": "code",
   "execution_count": 108,
   "id": "d398bbd8-0613-4bd5-a291-01af83e8e170",
   "metadata": {},
   "outputs": [],
   "source": [
    "x_train,x_test,y_train,y_test = train_test_split(x,y,test_size= 0.25,random_state=42) "
   ]
  },
  {
   "cell_type": "code",
   "execution_count": 109,
   "id": "87e500b5-1a53-475e-8a37-554fde38a9b3",
   "metadata": {},
   "outputs": [
    {
     "data": {
      "text/plain": [
       "((183, 11), (62, 11), (183,), (62,))"
      ]
     },
     "execution_count": 109,
     "metadata": {},
     "output_type": "execute_result"
    }
   ],
   "source": [
    "x_train.shape,x_test.shape,y_train.shape,y_test.shape"
   ]
  },
  {
   "cell_type": "code",
   "execution_count": 110,
   "id": "7897ecac-8a10-45a7-9903-f76b17c11837",
   "metadata": {},
   "outputs": [
    {
     "data": {
      "text/html": [
       "<div>\n",
       "<style scoped>\n",
       "    .dataframe tbody tr th:only-of-type {\n",
       "        vertical-align: middle;\n",
       "    }\n",
       "\n",
       "    .dataframe tbody tr th {\n",
       "        vertical-align: top;\n",
       "    }\n",
       "\n",
       "    .dataframe thead th {\n",
       "        text-align: right;\n",
       "    }\n",
       "</style>\n",
       "<table border=\"1\" class=\"dataframe\">\n",
       "  <thead>\n",
       "    <tr style=\"text-align: right;\">\n",
       "      <th></th>\n",
       "      <th>Temperature</th>\n",
       "      <th>RH</th>\n",
       "      <th>Ws</th>\n",
       "      <th>Rain</th>\n",
       "      <th>FFMC</th>\n",
       "      <th>DMC</th>\n",
       "      <th>DC</th>\n",
       "      <th>ISI</th>\n",
       "      <th>BUI</th>\n",
       "      <th>Region</th>\n",
       "      <th>Classes</th>\n",
       "    </tr>\n",
       "  </thead>\n",
       "  <tbody>\n",
       "    <tr>\n",
       "      <th>Temperature</th>\n",
       "      <td>1.000000</td>\n",
       "      <td>-0.370525</td>\n",
       "      <td>0.016478</td>\n",
       "      <td>-0.273787</td>\n",
       "      <td>0.743180</td>\n",
       "      <td>0.462328</td>\n",
       "      <td>0.350810</td>\n",
       "      <td>0.562315</td>\n",
       "      <td>0.436881</td>\n",
       "      <td>0.161613</td>\n",
       "      <td>0.390237</td>\n",
       "    </tr>\n",
       "    <tr>\n",
       "      <th>RH</th>\n",
       "      <td>-0.370525</td>\n",
       "      <td>1.000000</td>\n",
       "      <td>0.297411</td>\n",
       "      <td>0.225887</td>\n",
       "      <td>-0.457529</td>\n",
       "      <td>-0.341671</td>\n",
       "      <td>-0.156720</td>\n",
       "      <td>-0.651109</td>\n",
       "      <td>-0.286126</td>\n",
       "      <td>-0.400162</td>\n",
       "      <td>-0.411954</td>\n",
       "    </tr>\n",
       "    <tr>\n",
       "      <th>Ws</th>\n",
       "      <td>0.016478</td>\n",
       "      <td>0.297411</td>\n",
       "      <td>1.000000</td>\n",
       "      <td>0.216006</td>\n",
       "      <td>0.016597</td>\n",
       "      <td>0.041477</td>\n",
       "      <td>0.107915</td>\n",
       "      <td>0.070958</td>\n",
       "      <td>0.068893</td>\n",
       "      <td>-0.227848</td>\n",
       "      <td>-0.083308</td>\n",
       "    </tr>\n",
       "    <tr>\n",
       "      <th>Rain</th>\n",
       "      <td>-0.273787</td>\n",
       "      <td>0.225887</td>\n",
       "      <td>0.216006</td>\n",
       "      <td>1.000000</td>\n",
       "      <td>-0.481809</td>\n",
       "      <td>-0.257306</td>\n",
       "      <td>-0.268691</td>\n",
       "      <td>-0.299849</td>\n",
       "      <td>-0.267390</td>\n",
       "      <td>-0.082204</td>\n",
       "      <td>-0.324814</td>\n",
       "    </tr>\n",
       "    <tr>\n",
       "      <th>FFMC</th>\n",
       "      <td>0.743180</td>\n",
       "      <td>-0.457529</td>\n",
       "      <td>0.016597</td>\n",
       "      <td>-0.481809</td>\n",
       "      <td>1.000000</td>\n",
       "      <td>0.592869</td>\n",
       "      <td>0.489602</td>\n",
       "      <td>0.707367</td>\n",
       "      <td>0.576490</td>\n",
       "      <td>0.205279</td>\n",
       "      <td>0.681801</td>\n",
       "    </tr>\n",
       "    <tr>\n",
       "      <th>DMC</th>\n",
       "      <td>0.462328</td>\n",
       "      <td>-0.341671</td>\n",
       "      <td>0.041477</td>\n",
       "      <td>-0.257306</td>\n",
       "      <td>0.592869</td>\n",
       "      <td>1.000000</td>\n",
       "      <td>0.864171</td>\n",
       "      <td>0.659592</td>\n",
       "      <td>0.982052</td>\n",
       "      <td>0.176733</td>\n",
       "      <td>0.580300</td>\n",
       "    </tr>\n",
       "    <tr>\n",
       "      <th>DC</th>\n",
       "      <td>0.350810</td>\n",
       "      <td>-0.156720</td>\n",
       "      <td>0.107915</td>\n",
       "      <td>-0.268691</td>\n",
       "      <td>0.489602</td>\n",
       "      <td>0.864171</td>\n",
       "      <td>1.000000</td>\n",
       "      <td>0.472222</td>\n",
       "      <td>0.941483</td>\n",
       "      <td>-0.114438</td>\n",
       "      <td>0.498287</td>\n",
       "    </tr>\n",
       "    <tr>\n",
       "      <th>ISI</th>\n",
       "      <td>0.562315</td>\n",
       "      <td>-0.651109</td>\n",
       "      <td>0.070958</td>\n",
       "      <td>-0.299849</td>\n",
       "      <td>0.707367</td>\n",
       "      <td>0.659592</td>\n",
       "      <td>0.472222</td>\n",
       "      <td>1.000000</td>\n",
       "      <td>0.612125</td>\n",
       "      <td>0.274042</td>\n",
       "      <td>0.691305</td>\n",
       "    </tr>\n",
       "    <tr>\n",
       "      <th>BUI</th>\n",
       "      <td>0.436881</td>\n",
       "      <td>-0.286126</td>\n",
       "      <td>0.068893</td>\n",
       "      <td>-0.267390</td>\n",
       "      <td>0.576490</td>\n",
       "      <td>0.982052</td>\n",
       "      <td>0.941483</td>\n",
       "      <td>0.612125</td>\n",
       "      <td>1.000000</td>\n",
       "      <td>0.071500</td>\n",
       "      <td>0.571598</td>\n",
       "    </tr>\n",
       "    <tr>\n",
       "      <th>Region</th>\n",
       "      <td>0.161613</td>\n",
       "      <td>-0.400162</td>\n",
       "      <td>-0.227848</td>\n",
       "      <td>-0.082204</td>\n",
       "      <td>0.205279</td>\n",
       "      <td>0.176733</td>\n",
       "      <td>-0.114438</td>\n",
       "      <td>0.274042</td>\n",
       "      <td>0.071500</td>\n",
       "      <td>1.000000</td>\n",
       "      <td>0.168699</td>\n",
       "    </tr>\n",
       "    <tr>\n",
       "      <th>Classes</th>\n",
       "      <td>0.390237</td>\n",
       "      <td>-0.411954</td>\n",
       "      <td>-0.083308</td>\n",
       "      <td>-0.324814</td>\n",
       "      <td>0.681801</td>\n",
       "      <td>0.580300</td>\n",
       "      <td>0.498287</td>\n",
       "      <td>0.691305</td>\n",
       "      <td>0.571598</td>\n",
       "      <td>0.168699</td>\n",
       "      <td>1.000000</td>\n",
       "    </tr>\n",
       "  </tbody>\n",
       "</table>\n",
       "</div>"
      ],
      "text/plain": [
       "             Temperature        RH        Ws      Rain      FFMC       DMC  \\\n",
       "Temperature     1.000000 -0.370525  0.016478 -0.273787  0.743180  0.462328   \n",
       "RH             -0.370525  1.000000  0.297411  0.225887 -0.457529 -0.341671   \n",
       "Ws              0.016478  0.297411  1.000000  0.216006  0.016597  0.041477   \n",
       "Rain           -0.273787  0.225887  0.216006  1.000000 -0.481809 -0.257306   \n",
       "FFMC            0.743180 -0.457529  0.016597 -0.481809  1.000000  0.592869   \n",
       "DMC             0.462328 -0.341671  0.041477 -0.257306  0.592869  1.000000   \n",
       "DC              0.350810 -0.156720  0.107915 -0.268691  0.489602  0.864171   \n",
       "ISI             0.562315 -0.651109  0.070958 -0.299849  0.707367  0.659592   \n",
       "BUI             0.436881 -0.286126  0.068893 -0.267390  0.576490  0.982052   \n",
       "Region          0.161613 -0.400162 -0.227848 -0.082204  0.205279  0.176733   \n",
       "Classes         0.390237 -0.411954 -0.083308 -0.324814  0.681801  0.580300   \n",
       "\n",
       "                   DC       ISI       BUI    Region   Classes  \n",
       "Temperature  0.350810  0.562315  0.436881  0.161613  0.390237  \n",
       "RH          -0.156720 -0.651109 -0.286126 -0.400162 -0.411954  \n",
       "Ws           0.107915  0.070958  0.068893 -0.227848 -0.083308  \n",
       "Rain        -0.268691 -0.299849 -0.267390 -0.082204 -0.324814  \n",
       "FFMC         0.489602  0.707367  0.576490  0.205279  0.681801  \n",
       "DMC          0.864171  0.659592  0.982052  0.176733  0.580300  \n",
       "DC           1.000000  0.472222  0.941483 -0.114438  0.498287  \n",
       "ISI          0.472222  1.000000  0.612125  0.274042  0.691305  \n",
       "BUI          0.941483  0.612125  1.000000  0.071500  0.571598  \n",
       "Region      -0.114438  0.274042  0.071500  1.000000  0.168699  \n",
       "Classes      0.498287  0.691305  0.571598  0.168699  1.000000  "
      ]
     },
     "execution_count": 110,
     "metadata": {},
     "output_type": "execute_result"
    }
   ],
   "source": [
    "x_train.corr()"
   ]
  },
  {
   "cell_type": "code",
   "execution_count": 111,
   "id": "8bf256ac-4e34-471c-9f37-e17d04064a67",
   "metadata": {},
   "outputs": [
    {
     "data": {
      "text/plain": [
       "<Axes: >"
      ]
     },
     "execution_count": 111,
     "metadata": {},
     "output_type": "execute_result"
    },
    {
     "data": {
      "image/png": "[encoded data removed]",
      "text/plain": [
       "<Figure size 1500x1000 with 2 Axes>"
      ]
     },
     "metadata": {},
     "output_type": "display_data"
    }
   ],
   "source": [
    "## Check for mulitcollinearity\n",
    "plt.figure(figsize = (15,10))\n",
    "corr = x_train.corr()\n",
    "sns.heatmap(corr,annot = True)"
   ]
  },
  {
   "cell_type": "code",
   "execution_count": 112,
   "id": "ce2a8eb2-3ba4-48b3-8cb5-4320a95258e2",
   "metadata": {},
   "outputs": [],
   "source": [
    "def correlation(dataset,threshold):\n",
    "    col_corr = set()\n",
    "    corr_matrix = dataset.corr()\n",
    "    for i in range(len(corr_matrix.columns)):\n",
    "        for j in range(i):\n",
    "            if abs(corr_matrix.iloc[i,j]) > threshold:\n",
    "                colname = corr_matrix.columns[i]\n",
    "                col_corr.add(colname)\n",
    "    return col_corr\n",
    "        "
   ]
  },
  {
   "cell_type": "code",
   "execution_count": 113,
   "id": "59750d6e-86b0-4c36-8b05-15f8bb06f582",
   "metadata": {},
   "outputs": [],
   "source": [
    "## thrshhold__Domain_expertise\n",
    "corr_features = correlation(x_train,0.85)"
   ]
  },
  {
   "cell_type": "code",
   "execution_count": 114,
   "id": "30f77da9-05a0-40ca-810e-388fbcb61848",
   "metadata": {},
   "outputs": [],
   "source": [
    "### Drop the feature when correlation is higher than 0.85\n",
    "x_train.drop(corr_features,axis = 1,inplace = True)\n"
   ]
  },
  {
   "cell_type": "code",
   "execution_count": 115,
   "id": "b17c0557-cc22-4978-bd64-f4c63295973d",
   "metadata": {},
   "outputs": [],
   "source": [
    "x_test.drop(corr_features,axis = 1,inplace = True)"
   ]
  },
  {
   "cell_type": "code",
   "execution_count": 116,
   "id": "0a3771df-b6a4-4c21-9b4a-17f04bddad06",
   "metadata": {},
   "outputs": [
    {
     "data": {
      "text/plain": [
       "((183, 9), (62, 9))"
      ]
     },
     "execution_count": 116,
     "metadata": {},
     "output_type": "execute_result"
    }
   ],
   "source": [
    "x_train.shape,x_test.shape"
   ]
  },
  {
   "cell_type": "markdown",
   "id": "df5df2fd-7e18-4ad1-87eb-f4797e8f4d76",
   "metadata": {},
   "source": [
    "## Feature Scaling or standardization()"
   ]
  },
  {
   "cell_type": "code",
   "execution_count": 117,
   "id": "f03ba1e7-affb-432a-b94a-b8f7f6653f9e",
   "metadata": {},
   "outputs": [],
   "source": [
    "from sklearn.preprocessing import StandardScaler"
   ]
  },
  {
   "cell_type": "code",
   "execution_count": 118,
   "id": "70f03624-1b70-41c5-bee7-8248d57439a9",
   "metadata": {},
   "outputs": [],
   "source": [
    "scaler = StandardScaler()"
   ]
  },
  {
   "cell_type": "code",
   "execution_count": 119,
   "id": "ac2f498e-3bb3-4dd5-82bc-a8700115f671",
   "metadata": {},
   "outputs": [],
   "source": [
    "x_train_scaled = scaler.fit_transform(x_train)\n",
    "x_test_scaled = scaler.transform(x_test)"
   ]
  },
  {
   "cell_type": "code",
   "execution_count": 120,
   "id": "36d9f291-cd98-4034-bbcb-b076c30df32a",
   "metadata": {},
   "outputs": [
    {
     "data": {
      "text/plain": [
       "array([[ 0.93976373, -0.39091267,  0.1711072 , ...,  0.76894682,\n",
       "         0.98373875,  0.8813053 ],\n",
       "       [-0.1842674 ,  0.62922307, -0.50960188, ..., -0.2376472 ,\n",
       "         0.98373875,  0.8813053 ],\n",
       "       [ 0.04053883, -0.13587874,  0.85181629, ..., -0.60368138,\n",
       "        -1.01653005, -1.13468057],\n",
       "       ...,\n",
       "       [-1.53310475,  0.88425701,  0.51146174, ..., -1.06122411,\n",
       "        -1.01653005, -1.13468057],\n",
       "       [-0.63387985,  1.58560033,  0.85181629, ..., -0.46641856,\n",
       "         0.98373875, -1.13468057],\n",
       "       [-0.40907362,  0.94801549,  1.87287991, ..., -0.85532988,\n",
       "        -1.01653005, -1.13468057]])"
      ]
     },
     "execution_count": 120,
     "metadata": {},
     "output_type": "execute_result"
    }
   ],
   "source": [
    "x_train_scaled"
   ]
  },
  {
   "cell_type": "code",
   "execution_count": 121,
   "id": "5f168f85-939b-4782-8f01-e3fde29ef362",
   "metadata": {},
   "outputs": [
    {
     "name": "stderr",
     "output_type": "stream",
     "text": [
      "E:\\UDEMY_ML\\venv\\lib\\site-packages\\seaborn\\categorical.py:470: FutureWarning: iteritems is deprecated and will be removed in a future version. Use .items instead.\n",
      "  plot_data = [np.asarray(s, float) for k, s in iter_data]\n"
     ]
    },
    {
     "data": {
      "image/png": "[encoded data removed]",
      "text/plain": [
       "<Figure size 1500x700 with 2 Axes>"
      ]
     },
     "metadata": {},
     "output_type": "display_data"
    }
   ],
   "source": [
    "### BOx plot to understand the effect of standard scaler\n",
    "plt.figure(figsize = (15,7))\n",
    "plt.subplot(1,2,1)\n",
    "sns.boxplot(data = x_train)\n",
    "plt.title('X_train before Scaling')\n",
    "plt.subplot(1,2,2)\n",
    "sns.boxplot(data = x_train_scaled)\n",
    "plt.title('X_train after Scaling')\n",
    "plt.show()"
   ]
  },
  {
   "cell_type": "markdown",
   "id": "95a82b87-a571-41cc-8cfc-dcab0bcbb9e0",
   "metadata": {},
   "source": [
    "###   Linear Regression\n"
   ]
  },
  {
   "cell_type": "code",
   "execution_count": 122,
   "id": "f7640c98-49f9-486a-a499-06a38e820dfc",
   "metadata": {},
   "outputs": [],
   "source": [
    "from sklearn.linear_model import LinearRegression\n",
    "from sklearn.metrics import mean_absolute_error\n",
    "from sklearn.metrics import r2_score"
   ]
  },
  {
   "cell_type": "code",
   "execution_count": 123,
   "id": "44b54f56-26c3-497e-9ae4-59672397fb49",
   "metadata": {},
   "outputs": [],
   "source": [
    "model = LinearRegression(n_jobs=- 1)"
   ]
  },
  {
   "cell_type": "code",
   "execution_count": 124,
   "id": "d8452a70-e069-4f52-8e60-0036ec96c7f4",
   "metadata": {},
   "outputs": [
    {
     "data": {
      "text/html": [
       "<style>#sk-container-id-7 {color: black;background-color: white;}#sk-container-id-7 pre{padding: 0;}#sk-container-id-7 div.sk-toggleable {background-color: white;}#sk-container-id-7 label.sk-toggleable__label {cursor: pointer;display: block;width: 100%;margin-bottom: 0;padding: 0.3em;box-sizing: border-box;text-align: center;}#sk-container-id-7 label.sk-toggleable__label-arrow:before {content: \"▸\";float: left;margin-right: 0.25em;color: #696969;}#sk-container-id-7 label.sk-toggleable__label-arrow:hover:before {color: black;}#sk-container-id-7 div.sk-estimator:hover label.sk-toggleable__label-arrow:before {color: black;}#sk-container-id-7 div.sk-toggleable__content {max-height: 0;max-width: 0;overflow: hidden;text-align: left;background-color: #f0f8ff;}#sk-container-id-7 div.sk-toggleable__content pre {margin: 0.2em;color: black;border-radius: 0.25em;background-color: #f0f8ff;}#sk-container-id-7 input.sk-toggleable__control:checked~div.sk-toggleable__content {max-height: 200px;max-width: 100%;overflow: auto;}#sk-container-id-7 input.sk-toggleable__control:checked~label.sk-toggleable__label-arrow:before {content: \"▾\";}#sk-container-id-7 div.sk-estimator input.sk-toggleable__control:checked~label.sk-toggleable__label {background-color: #d4ebff;}#sk-container-id-7 div.sk-label input.sk-toggleable__control:checked~label.sk-toggleable__label {background-color: #d4ebff;}#sk-container-id-7 input.sk-hidden--visually {border: 0;clip: rect(1px 1px 1px 1px);clip: rect(1px, 1px, 1px, 1px);height: 1px;margin: -1px;overflow: hidden;padding: 0;position: absolute;width: 1px;}#sk-container-id-7 div.sk-estimator {font-family: monospace;background-color: #f0f8ff;border: 1px dotted black;border-radius: 0.25em;box-sizing: border-box;margin-bottom: 0.5em;}#sk-container-id-7 div.sk-estimator:hover {background-color: #d4ebff;}#sk-container-id-7 div.sk-parallel-item::after {content: \"\";width: 100%;border-bottom: 1px solid gray;flex-grow: 1;}#sk-container-id-7 div.sk-label:hover label.sk-toggleable__label {background-color: #d4ebff;}#sk-container-id-7 div.sk-serial::before {content: \"\";position: absolute;border-left: 1px solid gray;box-sizing: border-box;top: 0;bottom: 0;left: 50%;z-index: 0;}#sk-container-id-7 div.sk-serial {display: flex;flex-direction: column;align-items: center;background-color: white;padding-right: 0.2em;padding-left: 0.2em;position: relative;}#sk-container-id-7 div.sk-item {position: relative;z-index: 1;}#sk-container-id-7 div.sk-parallel {display: flex;align-items: stretch;justify-content: center;background-color: white;position: relative;}#sk-container-id-7 div.sk-item::before, #sk-container-id-7 div.sk-parallel-item::before {content: \"\";position: absolute;border-left: 1px solid gray;box-sizing: border-box;top: 0;bottom: 0;left: 50%;z-index: -1;}#sk-container-id-7 div.sk-parallel-item {display: flex;flex-direction: column;z-index: 1;position: relative;background-color: white;}#sk-container-id-7 div.sk-parallel-item:first-child::after {align-self: flex-end;width: 50%;}#sk-container-id-7 div.sk-parallel-item:last-child::after {align-self: flex-start;width: 50%;}#sk-container-id-7 div.sk-parallel-item:only-child::after {width: 0;}#sk-container-id-7 div.sk-dashed-wrapped {border: 1px dashed gray;margin: 0 0.4em 0.5em 0.4em;box-sizing: border-box;padding-bottom: 0.4em;background-color: white;}#sk-container-id-7 div.sk-label label {font-family: monospace;font-weight: bold;display: inline-block;line-height: 1.2em;}#sk-container-id-7 div.sk-label-container {text-align: center;}#sk-container-id-7 div.sk-container {/* jupyter's `normalize.less` sets `[hidden] { display: none; }` but bootstrap.min.css set `[hidden] { display: none !important; }` so we also need the `!important` here to be able to override the default hidden behavior on the sphinx rendered scikit-learn.org. See: https://github.com/scikit-learn/scikit-learn/issues/21755 */display: inline-block !important;position: relative;}#sk-container-id-7 div.sk-text-repr-fallback {display: none;}</style><div id=\"sk-container-id-7\" class=\"sk-top-container\"><div class=\"sk-text-repr-fallback\"><pre>LinearRegression(n_jobs=-1)</pre><b>In a Jupyter environment, please rerun this cell to show the HTML representation or trust the notebook. <br />On GitHub, the HTML representation is unable to render, please try loading this page with nbviewer.org.</b></div><div class=\"sk-container\" hidden><div class=\"sk-item\"><div class=\"sk-estimator sk-toggleable\"><input class=\"sk-toggleable__control sk-hidden--visually\" id=\"sk-estimator-id-7\" type=\"checkbox\" checked><label for=\"sk-estimator-id-7\" class=\"sk-toggleable__label sk-toggleable__label-arrow\">LinearRegression</label><div class=\"sk-toggleable__content\"><pre>LinearRegression(n_jobs=-1)</pre></div></div></div></div></div>"
      ],
      "text/plain": [
       "LinearRegression(n_jobs=-1)"
      ]
     },
     "execution_count": 124,
     "metadata": {},
     "output_type": "execute_result"
    }
   ],
   "source": [
    "model.fit(x_train_scaled,y_train)"
   ]
  },
  {
   "cell_type": "code",
   "execution_count": 131,
   "id": "6589d6b9-e81e-47cc-a32b-c94c8d049fff",
   "metadata": {},
   "outputs": [
    {
     "data": {
      "text/plain": [
       "<matplotlib.collections.PathCollection at 0x2974198ff10>"
      ]
     },
     "execution_count": 131,
     "metadata": {},
     "output_type": "execute_result"
    },
    {
     "data": {
      "image/png": "[encoded data removed]",
      "text/plain": [
       "<Figure size 640x480 with 1 Axes>"
      ]
     },
     "metadata": {},
     "output_type": "display_data"
    }
   ],
   "source": [
    "y_pred = model.predict(x_test_scaled)\n",
    "mae = mean_absolute_error(y_pred,y_test)\n",
    "score = r2_score(y_test,y_pred)\n",
    "plt.scatter(y_pred,y_test)"
   ]
  },
  {
   "cell_type": "code",
   "execution_count": 132,
   "id": "2e8bc19b-63df-4204-a7db-de5db377149d",
   "metadata": {},
   "outputs": [
    {
     "data": {
      "text/plain": [
       "0.6896253795374602"
      ]
     },
     "execution_count": 132,
     "metadata": {},
     "output_type": "execute_result"
    }
   ],
   "source": [
    "mae"
   ]
  },
  {
   "cell_type": "code",
   "execution_count": 133,
   "id": "d3fffe4c-d668-4d34-80c1-cd16aefb741f",
   "metadata": {},
   "outputs": [
    {
     "data": {
      "text/plain": [
       "0.9828487467934435"
      ]
     },
     "execution_count": 133,
     "metadata": {},
     "output_type": "execute_result"
    }
   ],
   "source": [
    "score"
   ]
  },
  {
   "cell_type": "markdown",
   "id": "e721254b-be67-48df-a13f-554d6c288e07",
   "metadata": {},
   "source": [
    "### Lassso Model"
   ]
  },
  {
   "cell_type": "code",
   "execution_count": 135,
   "id": "8b99c134-2037-4816-bb71-44bf0b15801e",
   "metadata": {},
   "outputs": [
    {
     "name": "stdout",
     "output_type": "stream",
     "text": [
      "The mean absolute error:1.2236822426871388\n",
      "The r2_score:0.9145976022028923 \n"
     ]
    },
    {
     "data": {
      "image/png": "[encoded data removed]",
      "text/plain": [
       "<Figure size 640x480 with 1 Axes>"
      ]
     },
     "metadata": {},
     "output_type": "display_data"
    }
   ],
   "source": [
    "from sklearn.linear_model import Lasso\n",
    "from sklearn.metrics import mean_absolute_error\n",
    "from sklearn.metrics import r2_score\n",
    "model1 = Lasso()\n",
    "model1.fit(x_train_scaled,y_train)\n",
    "y_pred = model1.predict(x_test_scaled)\n",
    "mae = mean_absolute_error(y_pred,y_test)\n",
    "score = r2_score(y_pred,y_test)\n",
    "plt.scatter(y_test,y_pred)\n",
    "print(f'The mean absolute error:{mae}')\n",
    "print(f'The r2_score:{score} ')"
   ]
  },
  {
   "cell_type": "markdown",
   "id": "1511998d-d070-49d5-be64-3d39054e0d51",
   "metadata": {},
   "source": [
    "### Ridge regression"
   ]
  },
  {
   "cell_type": "code",
   "execution_count": 137,
   "id": "07b616dd-708e-418a-a5ce-3d01ff76ca14",
   "metadata": {},
   "outputs": [
    {
     "name": "stdout",
     "output_type": "stream",
     "text": [
      "The mean absolute error:0.7055783284305254\n",
      "The r2_score:0.9809232291554798 \n"
     ]
    },
    {
     "data": {
      "image/png": "[encoded data removed]",
      "text/plain": [
       "<Figure size 640x480 with 1 Axes>"
      ]
     },
     "metadata": {},
     "output_type": "display_data"
    }
   ],
   "source": [
    "from sklearn.linear_model import Ridge\n",
    "from sklearn.metrics import mean_absolute_error\n",
    "from sklearn.metrics import r2_score\n",
    "model2 = Ridge()\n",
    "model2.fit(x_train_scaled,y_train)\n",
    "y_pred = model2.predict(x_test_scaled)\n",
    "mae = mean_absolute_error(y_pred,y_test)\n",
    "score = r2_score(y_pred,y_test)\n",
    "plt.scatter(y_test,y_pred)\n",
    "print(f'The mean absolute error:{mae}')\n",
    "print(f'The r2_score:{score} ')"
   ]
  },
  {
   "cell_type": "markdown",
   "id": "bf4ac03a-a433-47c0-9bd5-7feaaf1ca4ac",
   "metadata": {},
   "source": [
    "### ElasticNet regression"
   ]
  },
  {
   "cell_type": "code",
   "execution_count": 139,
   "id": "22029593-f1a6-473b-925d-2eaccc5d46f0",
   "metadata": {},
   "outputs": [
    {
     "name": "stdout",
     "output_type": "stream",
     "text": [
      "The mean absolute error:1.7455327315337936\n",
      "The r2_score:0.7931905771049561 \n"
     ]
    },
    {
     "data": {
      "image/png": "[encoded data removed]",
      "text/plain": [
       "<Figure size 640x480 with 1 Axes>"
      ]
     },
     "metadata": {},
     "output_type": "display_data"
    }
   ],
   "source": [
    "from sklearn.linear_model import ElasticNet\n",
    "from sklearn.metrics import mean_absolute_error\n",
    "from sklearn.metrics import r2_score\n",
    "model3 = ElasticNet()\n",
    "model3.fit(x_train_scaled,y_train)\n",
    "y_pred = model3.predict(x_test_scaled)\n",
    "mae = mean_absolute_error(y_pred,y_test)\n",
    "score = r2_score(y_pred,y_test)\n",
    "plt.scatter(y_test,y_pred)\n",
    "print(f'The mean absolute error:{mae}')\n",
    "print(f'The r2_score:{score} ')"
   ]
  },
  {
   "cell_type": "markdown",
   "id": "c2b3aff6-4095-4c22-a6f8-328d4f3483d6",
   "metadata": {},
   "source": [
    "### Cross validation"
   ]
  },
  {
   "cell_type": "code",
   "execution_count": 140,
   "id": "e6cdbaff-fcb0-40a8-9fcf-0bdc2e9efb89",
   "metadata": {},
   "outputs": [
    {
     "data": {
      "text/html": [
       "<style>#sk-container-id-8 {color: black;background-color: white;}#sk-container-id-8 pre{padding: 0;}#sk-container-id-8 div.sk-toggleable {background-color: white;}#sk-container-id-8 label.sk-toggleable__label {cursor: pointer;display: block;width: 100%;margin-bottom: 0;padding: 0.3em;box-sizing: border-box;text-align: center;}#sk-container-id-8 label.sk-toggleable__label-arrow:before {content: \"▸\";float: left;margin-right: 0.25em;color: #696969;}#sk-container-id-8 label.sk-toggleable__label-arrow:hover:before {color: black;}#sk-container-id-8 div.sk-estimator:hover label.sk-toggleable__label-arrow:before {color: black;}#sk-container-id-8 div.sk-toggleable__content {max-height: 0;max-width: 0;overflow: hidden;text-align: left;background-color: #f0f8ff;}#sk-container-id-8 div.sk-toggleable__content pre {margin: 0.2em;color: black;border-radius: 0.25em;background-color: #f0f8ff;}#sk-container-id-8 input.sk-toggleable__control:checked~div.sk-toggleable__content {max-height: 200px;max-width: 100%;overflow: auto;}#sk-container-id-8 input.sk-toggleable__control:checked~label.sk-toggleable__label-arrow:before {content: \"▾\";}#sk-container-id-8 div.sk-estimator input.sk-toggleable__control:checked~label.sk-toggleable__label {background-color: #d4ebff;}#sk-container-id-8 div.sk-label input.sk-toggleable__control:checked~label.sk-toggleable__label {background-color: #d4ebff;}#sk-container-id-8 input.sk-hidden--visually {border: 0;clip: rect(1px 1px 1px 1px);clip: rect(1px, 1px, 1px, 1px);height: 1px;margin: -1px;overflow: hidden;padding: 0;position: absolute;width: 1px;}#sk-container-id-8 div.sk-estimator {font-family: monospace;background-color: #f0f8ff;border: 1px dotted black;border-radius: 0.25em;box-sizing: border-box;margin-bottom: 0.5em;}#sk-container-id-8 div.sk-estimator:hover {background-color: #d4ebff;}#sk-container-id-8 div.sk-parallel-item::after {content: \"\";width: 100%;border-bottom: 1px solid gray;flex-grow: 1;}#sk-container-id-8 div.sk-label:hover label.sk-toggleable__label {background-color: #d4ebff;}#sk-container-id-8 div.sk-serial::before {content: \"\";position: absolute;border-left: 1px solid gray;box-sizing: border-box;top: 0;bottom: 0;left: 50%;z-index: 0;}#sk-container-id-8 div.sk-serial {display: flex;flex-direction: column;align-items: center;background-color: white;padding-right: 0.2em;padding-left: 0.2em;position: relative;}#sk-container-id-8 div.sk-item {position: relative;z-index: 1;}#sk-container-id-8 div.sk-parallel {display: flex;align-items: stretch;justify-content: center;background-color: white;position: relative;}#sk-container-id-8 div.sk-item::before, #sk-container-id-8 div.sk-parallel-item::before {content: \"\";position: absolute;border-left: 1px solid gray;box-sizing: border-box;top: 0;bottom: 0;left: 50%;z-index: -1;}#sk-container-id-8 div.sk-parallel-item {display: flex;flex-direction: column;z-index: 1;position: relative;background-color: white;}#sk-container-id-8 div.sk-parallel-item:first-child::after {align-self: flex-end;width: 50%;}#sk-container-id-8 div.sk-parallel-item:last-child::after {align-self: flex-start;width: 50%;}#sk-container-id-8 div.sk-parallel-item:only-child::after {width: 0;}#sk-container-id-8 div.sk-dashed-wrapped {border: 1px dashed gray;margin: 0 0.4em 0.5em 0.4em;box-sizing: border-box;padding-bottom: 0.4em;background-color: white;}#sk-container-id-8 div.sk-label label {font-family: monospace;font-weight: bold;display: inline-block;line-height: 1.2em;}#sk-container-id-8 div.sk-label-container {text-align: center;}#sk-container-id-8 div.sk-container {/* jupyter's `normalize.less` sets `[hidden] { display: none; }` but bootstrap.min.css set `[hidden] { display: none !important; }` so we also need the `!important` here to be able to override the default hidden behavior on the sphinx rendered scikit-learn.org. See: https://github.com/scikit-learn/scikit-learn/issues/21755 */display: inline-block !important;position: relative;}#sk-container-id-8 div.sk-text-repr-fallback {display: none;}</style><div id=\"sk-container-id-8\" class=\"sk-top-container\"><div class=\"sk-text-repr-fallback\"><pre>LassoCV(cv=5)</pre><b>In a Jupyter environment, please rerun this cell to show the HTML representation or trust the notebook. <br />On GitHub, the HTML representation is unable to render, please try loading this page with nbviewer.org.</b></div><div class=\"sk-container\" hidden><div class=\"sk-item\"><div class=\"sk-estimator sk-toggleable\"><input class=\"sk-toggleable__control sk-hidden--visually\" id=\"sk-estimator-id-8\" type=\"checkbox\" checked><label for=\"sk-estimator-id-8\" class=\"sk-toggleable__label sk-toggleable__label-arrow\">LassoCV</label><div class=\"sk-toggleable__content\"><pre>LassoCV(cv=5)</pre></div></div></div></div></div>"
      ],
      "text/plain": [
       "LassoCV(cv=5)"
      ]
     },
     "execution_count": 140,
     "metadata": {},
     "output_type": "execute_result"
    }
   ],
   "source": [
    "from sklearn.linear_model import LassoCV\n",
    "cv1 = LassoCV(cv=5)\n",
    "cv1.fit(x_train_scaled,y_train)"
   ]
  },
  {
   "cell_type": "code",
   "execution_count": 141,
   "id": "48d61b0d-5ca4-4c82-86df-cb6bd4267f57",
   "metadata": {},
   "outputs": [
    {
     "data": {
      "text/plain": [
       "array([ 8.33219187e+00,  7.75245663e+00, -5.10748310e-01,  6.65188670e+00,\n",
       "        1.37426832e+01,  1.53647249e+00,  1.05381536e+01, -1.01837772e+00,\n",
       "        1.83670493e+00, -4.75499356e-01,  5.22553392e-01,  9.70664004e+00,\n",
       "        1.77142451e+00,  1.67299612e+01,  1.81075251e+01,  5.63235874e+00,\n",
       "        4.62043566e-01, -5.98315768e-01,  7.48651949e+00, -6.35521738e-01,\n",
       "        1.62785618e+00,  7.78879045e-02,  8.09271220e+00,  1.74418603e-02,\n",
       "        2.25981547e+01, -2.94303506e-01,  6.18192844e+00,  9.91499864e+00,\n",
       "        5.69744277e+00,  9.73849025e+00,  8.65928574e+00, -5.56192678e-01,\n",
       "        1.03861713e+01,  1.45555085e+01,  1.40201035e+00,  1.51751979e+00,\n",
       "        8.61650717e-01,  6.25065001e+00, -3.63549806e-01, -6.88289447e-01,\n",
       "        6.83901870e+00,  4.96212771e-01,  3.13027575e+00, -8.08875414e-01,\n",
       "        1.49788735e+01,  8.51146406e+00,  2.47859035e+01,  1.31593080e+00,\n",
       "        1.01765141e+01,  9.29457325e+00,  2.85903185e+01,  2.44416172e+00,\n",
       "        8.17399687e+00,  1.92254785e+01,  1.34603113e+01,  1.64307880e+01,\n",
       "        9.68907703e+00,  9.04163478e+00,  2.55853153e+00,  1.42040984e+01,\n",
       "        5.36095145e+00,  1.03311866e+00])"
      ]
     },
     "execution_count": 141,
     "metadata": {},
     "output_type": "execute_result"
    }
   ],
   "source": [
    "cv1.predict(x_test_scaled)"
   ]
  },
  {
   "cell_type": "code",
   "execution_count": 142,
   "id": "44c17337-fa58-474d-b3f8-2b1ee3509a28",
   "metadata": {},
   "outputs": [
    {
     "data": {
      "text/plain": [
       "0.06744760869472033"
      ]
     },
     "execution_count": 142,
     "metadata": {},
     "output_type": "execute_result"
    }
   ],
   "source": [
    "cv1.alpha_"
   ]
  },
  {
   "cell_type": "code",
   "execution_count": 143,
   "id": "235fd6ef-21cb-41c1-b764-eecf88cfdb5f",
   "metadata": {},
   "outputs": [
    {
     "data": {
      "text/plain": [
       "array([6.74476087, 6.29018656, 5.86624904, 5.47088349, 5.10216425,\n",
       "       4.75829546, 4.43760227, 4.13852273, 3.85960015, 3.59947601,\n",
       "       3.35688338, 3.13064067, 2.91964597, 2.7228716 , 2.53935917,\n",
       "       2.36821486, 2.20860511, 2.05975251, 1.92093209, 1.79146769,\n",
       "       1.67072877, 1.55812724, 1.45311468, 1.35517961, 1.26384504,\n",
       "       1.17866612, 1.09922797, 1.02514368, 0.95605243, 0.89161769,\n",
       "       0.83152564, 0.7754836 , 0.7232186 , 0.67447609, 0.62901866,\n",
       "       0.5866249 , 0.54708835, 0.51021643, 0.47582955, 0.44376023,\n",
       "       0.41385227, 0.38596001, 0.3599476 , 0.33568834, 0.31306407,\n",
       "       0.2919646 , 0.27228716, 0.25393592, 0.23682149, 0.22086051,\n",
       "       0.20597525, 0.19209321, 0.17914677, 0.16707288, 0.15581272,\n",
       "       0.14531147, 0.13551796, 0.1263845 , 0.11786661, 0.1099228 ,\n",
       "       0.10251437, 0.09560524, 0.08916177, 0.08315256, 0.07754836,\n",
       "       0.07232186, 0.06744761, 0.06290187, 0.05866249, 0.05470883,\n",
       "       0.05102164, 0.04758295, 0.04437602, 0.04138523, 0.038596  ,\n",
       "       0.03599476, 0.03356883, 0.03130641, 0.02919646, 0.02722872,\n",
       "       0.02539359, 0.02368215, 0.02208605, 0.02059753, 0.01920932,\n",
       "       0.01791468, 0.01670729, 0.01558127, 0.01453115, 0.0135518 ,\n",
       "       0.01263845, 0.01178666, 0.01099228, 0.01025144, 0.00956052,\n",
       "       0.00891618, 0.00831526, 0.00775484, 0.00723219, 0.00674476])"
      ]
     },
     "execution_count": 143,
     "metadata": {},
     "output_type": "execute_result"
    }
   ],
   "source": [
    "cv1.alphas_"
   ]
  },
  {
   "cell_type": "code",
   "execution_count": 144,
   "id": "12d42d11-bf44-4c5c-8f5b-fdad6fe14d71",
   "metadata": {},
   "outputs": [
    {
     "name": "stdout",
     "output_type": "stream",
     "text": [
      "The mean absolute error:0.7447449472601634\n",
      "The r2_score:0.9785458031682996 \n"
     ]
    },
    {
     "data": {
      "image/png": "[encoded data removed]",
      "text/plain": [
       "<Figure size 640x480 with 1 Axes>"
      ]
     },
     "metadata": {},
     "output_type": "display_data"
    }
   ],
   "source": [
    "y_pred = cv1.predict(x_test_scaled)\n",
    "plt.scatter(y_test,y_pred)\n",
    "mae = mean_absolute_error(y_pred,y_test)\n",
    "score = r2_score(y_pred,y_test)\n",
    "print(f'The mean absolute error:{mae}')\n",
    "print(f'The r2_score:{score} ')"
   ]
  },
  {
   "cell_type": "code",
   "execution_count": 145,
   "id": "7bb37f62-7a7a-4f54-b2fb-6f86b76f7782",
   "metadata": {},
   "outputs": [
    {
     "data": {
      "text/html": [
       "<style>#sk-container-id-9 {color: black;background-color: white;}#sk-container-id-9 pre{padding: 0;}#sk-container-id-9 div.sk-toggleable {background-color: white;}#sk-container-id-9 label.sk-toggleable__label {cursor: pointer;display: block;width: 100%;margin-bottom: 0;padding: 0.3em;box-sizing: border-box;text-align: center;}#sk-container-id-9 label.sk-toggleable__label-arrow:before {content: \"▸\";float: left;margin-right: 0.25em;color: #696969;}#sk-container-id-9 label.sk-toggleable__label-arrow:hover:before {color: black;}#sk-container-id-9 div.sk-estimator:hover label.sk-toggleable__label-arrow:before {color: black;}#sk-container-id-9 div.sk-toggleable__content {max-height: 0;max-width: 0;overflow: hidden;text-align: left;background-color: #f0f8ff;}#sk-container-id-9 div.sk-toggleable__content pre {margin: 0.2em;color: black;border-radius: 0.25em;background-color: #f0f8ff;}#sk-container-id-9 input.sk-toggleable__control:checked~div.sk-toggleable__content {max-height: 200px;max-width: 100%;overflow: auto;}#sk-container-id-9 input.sk-toggleable__control:checked~label.sk-toggleable__label-arrow:before {content: \"▾\";}#sk-container-id-9 div.sk-estimator input.sk-toggleable__control:checked~label.sk-toggleable__label {background-color: #d4ebff;}#sk-container-id-9 div.sk-label input.sk-toggleable__control:checked~label.sk-toggleable__label {background-color: #d4ebff;}#sk-container-id-9 input.sk-hidden--visually {border: 0;clip: rect(1px 1px 1px 1px);clip: rect(1px, 1px, 1px, 1px);height: 1px;margin: -1px;overflow: hidden;padding: 0;position: absolute;width: 1px;}#sk-container-id-9 div.sk-estimator {font-family: monospace;background-color: #f0f8ff;border: 1px dotted black;border-radius: 0.25em;box-sizing: border-box;margin-bottom: 0.5em;}#sk-container-id-9 div.sk-estimator:hover {background-color: #d4ebff;}#sk-container-id-9 div.sk-parallel-item::after {content: \"\";width: 100%;border-bottom: 1px solid gray;flex-grow: 1;}#sk-container-id-9 div.sk-label:hover label.sk-toggleable__label {background-color: #d4ebff;}#sk-container-id-9 div.sk-serial::before {content: \"\";position: absolute;border-left: 1px solid gray;box-sizing: border-box;top: 0;bottom: 0;left: 50%;z-index: 0;}#sk-container-id-9 div.sk-serial {display: flex;flex-direction: column;align-items: center;background-color: white;padding-right: 0.2em;padding-left: 0.2em;position: relative;}#sk-container-id-9 div.sk-item {position: relative;z-index: 1;}#sk-container-id-9 div.sk-parallel {display: flex;align-items: stretch;justify-content: center;background-color: white;position: relative;}#sk-container-id-9 div.sk-item::before, #sk-container-id-9 div.sk-parallel-item::before {content: \"\";position: absolute;border-left: 1px solid gray;box-sizing: border-box;top: 0;bottom: 0;left: 50%;z-index: -1;}#sk-container-id-9 div.sk-parallel-item {display: flex;flex-direction: column;z-index: 1;position: relative;background-color: white;}#sk-container-id-9 div.sk-parallel-item:first-child::after {align-self: flex-end;width: 50%;}#sk-container-id-9 div.sk-parallel-item:last-child::after {align-self: flex-start;width: 50%;}#sk-container-id-9 div.sk-parallel-item:only-child::after {width: 0;}#sk-container-id-9 div.sk-dashed-wrapped {border: 1px dashed gray;margin: 0 0.4em 0.5em 0.4em;box-sizing: border-box;padding-bottom: 0.4em;background-color: white;}#sk-container-id-9 div.sk-label label {font-family: monospace;font-weight: bold;display: inline-block;line-height: 1.2em;}#sk-container-id-9 div.sk-label-container {text-align: center;}#sk-container-id-9 div.sk-container {/* jupyter's `normalize.less` sets `[hidden] { display: none; }` but bootstrap.min.css set `[hidden] { display: none !important; }` so we also need the `!important` here to be able to override the default hidden behavior on the sphinx rendered scikit-learn.org. See: https://github.com/scikit-learn/scikit-learn/issues/21755 */display: inline-block !important;position: relative;}#sk-container-id-9 div.sk-text-repr-fallback {display: none;}</style><div id=\"sk-container-id-9\" class=\"sk-top-container\"><div class=\"sk-text-repr-fallback\"><pre>StandardScaler()</pre><b>In a Jupyter environment, please rerun this cell to show the HTML representation or trust the notebook. <br />On GitHub, the HTML representation is unable to render, please try loading this page with nbviewer.org.</b></div><div class=\"sk-container\" hidden><div class=\"sk-item\"><div class=\"sk-estimator sk-toggleable\"><input class=\"sk-toggleable__control sk-hidden--visually\" id=\"sk-estimator-id-9\" type=\"checkbox\" checked><label for=\"sk-estimator-id-9\" class=\"sk-toggleable__label sk-toggleable__label-arrow\">StandardScaler</label><div class=\"sk-toggleable__content\"><pre>StandardScaler()</pre></div></div></div></div></div>"
      ],
      "text/plain": [
       "StandardScaler()"
      ]
     },
     "execution_count": 145,
     "metadata": {},
     "output_type": "execute_result"
    }
   ],
   "source": [
    "scaler"
   ]
  },
  {
   "cell_type": "code",
   "execution_count": 146,
   "id": "3ea16025-e1de-415e-ac8a-9092879cf232",
   "metadata": {},
   "outputs": [
    {
     "data": {
      "text/html": [
       "<style>#sk-container-id-10 {color: black;background-color: white;}#sk-container-id-10 pre{padding: 0;}#sk-container-id-10 div.sk-toggleable {background-color: white;}#sk-container-id-10 label.sk-toggleable__label {cursor: pointer;display: block;width: 100%;margin-bottom: 0;padding: 0.3em;box-sizing: border-box;text-align: center;}#sk-container-id-10 label.sk-toggleable__label-arrow:before {content: \"▸\";float: left;margin-right: 0.25em;color: #696969;}#sk-container-id-10 label.sk-toggleable__label-arrow:hover:before {color: black;}#sk-container-id-10 div.sk-estimator:hover label.sk-toggleable__label-arrow:before {color: black;}#sk-container-id-10 div.sk-toggleable__content {max-height: 0;max-width: 0;overflow: hidden;text-align: left;background-color: #f0f8ff;}#sk-container-id-10 div.sk-toggleable__content pre {margin: 0.2em;color: black;border-radius: 0.25em;background-color: #f0f8ff;}#sk-container-id-10 input.sk-toggleable__control:checked~div.sk-toggleable__content {max-height: 200px;max-width: 100%;overflow: auto;}#sk-container-id-10 input.sk-toggleable__control:checked~label.sk-toggleable__label-arrow:before {content: \"▾\";}#sk-container-id-10 div.sk-estimator input.sk-toggleable__control:checked~label.sk-toggleable__label {background-color: #d4ebff;}#sk-container-id-10 div.sk-label input.sk-toggleable__control:checked~label.sk-toggleable__label {background-color: #d4ebff;}#sk-container-id-10 input.sk-hidden--visually {border: 0;clip: rect(1px 1px 1px 1px);clip: rect(1px, 1px, 1px, 1px);height: 1px;margin: -1px;overflow: hidden;padding: 0;position: absolute;width: 1px;}#sk-container-id-10 div.sk-estimator {font-family: monospace;background-color: #f0f8ff;border: 1px dotted black;border-radius: 0.25em;box-sizing: border-box;margin-bottom: 0.5em;}#sk-container-id-10 div.sk-estimator:hover {background-color: #d4ebff;}#sk-container-id-10 div.sk-parallel-item::after {content: \"\";width: 100%;border-bottom: 1px solid gray;flex-grow: 1;}#sk-container-id-10 div.sk-label:hover label.sk-toggleable__label {background-color: #d4ebff;}#sk-container-id-10 div.sk-serial::before {content: \"\";position: absolute;border-left: 1px solid gray;box-sizing: border-box;top: 0;bottom: 0;left: 50%;z-index: 0;}#sk-container-id-10 div.sk-serial {display: flex;flex-direction: column;align-items: center;background-color: white;padding-right: 0.2em;padding-left: 0.2em;position: relative;}#sk-container-id-10 div.sk-item {position: relative;z-index: 1;}#sk-container-id-10 div.sk-parallel {display: flex;align-items: stretch;justify-content: center;background-color: white;position: relative;}#sk-container-id-10 div.sk-item::before, #sk-container-id-10 div.sk-parallel-item::before {content: \"\";position: absolute;border-left: 1px solid gray;box-sizing: border-box;top: 0;bottom: 0;left: 50%;z-index: -1;}#sk-container-id-10 div.sk-parallel-item {display: flex;flex-direction: column;z-index: 1;position: relative;background-color: white;}#sk-container-id-10 div.sk-parallel-item:first-child::after {align-self: flex-end;width: 50%;}#sk-container-id-10 div.sk-parallel-item:last-child::after {align-self: flex-start;width: 50%;}#sk-container-id-10 div.sk-parallel-item:only-child::after {width: 0;}#sk-container-id-10 div.sk-dashed-wrapped {border: 1px dashed gray;margin: 0 0.4em 0.5em 0.4em;box-sizing: border-box;padding-bottom: 0.4em;background-color: white;}#sk-container-id-10 div.sk-label label {font-family: monospace;font-weight: bold;display: inline-block;line-height: 1.2em;}#sk-container-id-10 div.sk-label-container {text-align: center;}#sk-container-id-10 div.sk-container {/* jupyter's `normalize.less` sets `[hidden] { display: none; }` but bootstrap.min.css set `[hidden] { display: none !important; }` so we also need the `!important` here to be able to override the default hidden behavior on the sphinx rendered scikit-learn.org. See: https://github.com/scikit-learn/scikit-learn/issues/21755 */display: inline-block !important;position: relative;}#sk-container-id-10 div.sk-text-repr-fallback {display: none;}</style><div id=\"sk-container-id-10\" class=\"sk-top-container\"><div class=\"sk-text-repr-fallback\"><pre>Ridge()</pre><b>In a Jupyter environment, please rerun this cell to show the HTML representation or trust the notebook. <br />On GitHub, the HTML representation is unable to render, please try loading this page with nbviewer.org.</b></div><div class=\"sk-container\" hidden><div class=\"sk-item\"><div class=\"sk-estimator sk-toggleable\"><input class=\"sk-toggleable__control sk-hidden--visually\" id=\"sk-estimator-id-10\" type=\"checkbox\" checked><label for=\"sk-estimator-id-10\" class=\"sk-toggleable__label sk-toggleable__label-arrow\">Ridge</label><div class=\"sk-toggleable__content\"><pre>Ridge()</pre></div></div></div></div></div>"
      ],
      "text/plain": [
       "Ridge()"
      ]
     },
     "execution_count": 146,
     "metadata": {},
     "output_type": "execute_result"
    }
   ],
   "source": [
    "model2"
   ]
  },
  {
   "cell_type": "code",
   "execution_count": 150,
   "id": "be45fff4-2288-4968-96d1-b18c3ebd91f7",
   "metadata": {},
   "outputs": [],
   "source": [
    "import pickle\n",
    "pickle.dump(scaler,open('scaler.pkl','wb'))\n",
    "pickle.dump(model2,open('ridge.pkl','wb')) "
   ]
  },
  {
   "cell_type": "code",
   "execution_count": null,
   "id": "e5afadd7-e127-42a5-83a3-b28e16a0da7b",
   "metadata": {},
   "outputs": [],
   "source": []
  }
 ],
 "metadata": {
  "kernelspec": {
   "display_name": "Python 3 (ipykernel)",
   "language": "python",
   "name": "python3"
  },
  "language_info": {
   "codemirror_mode": {
    "name": "ipython",
    "version": 3
   },
   "file_extension": ".py",
   "mimetype": "text/x-python",
   "name": "python",
   "nbconvert_exporter": "python",
   "pygments_lexer": "ipython3",
   "version": "3.10.14"
  }
 },
 "nbformat": 4,
 "nbformat_minor": 5
}
