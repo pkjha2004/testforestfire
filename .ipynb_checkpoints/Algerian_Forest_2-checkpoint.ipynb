{
 "cells": [
  {
   "cell_type": "code",
   "execution_count": 1,
   "id": "e46eb3eb-81ac-49a8-b041-5ceb3d9133d2",
   "metadata": {},
   "outputs": [],
   "source": [
    "import pandas as pd\n",
    "import numpy as np\n",
    "import matplotlib.pyplot as plt\n",
    "%matplotlib inline\n",
    "import seaborn as sns"
   ]
  },
  {
   "cell_type": "code",
   "execution_count": null,
   "id": "e3e1ee8a-52cd-4ac4-8f8c-47815034b1f7",
   "metadata": {},
   "outputs": [],
   "source": [
    "df = pd.read_csv('cleaned_Algerian_Forest')"
   ]
  },
  {
   "cell_type": "code",
   "execution_count": null,
   "id": "f1236236-1ce4-4506-9146-21a99da81185",
   "metadata": {},
   "outputs": [],
   "source": [
    "df.head()"
   ]
  },
  {
   "cell_type": "code",
   "execution_count": null,
   "id": "0aca3907-4f43-45b1-941f-785400a9fba6",
   "metadata": {},
   "outputs": [],
   "source": [
    "df.columns"
   ]
  },
  {
   "cell_type": "code",
   "execution_count": null,
   "id": "38af32b1-d573-4f69-958b-2df5b2803876",
   "metadata": {},
   "outputs": [],
   "source": [
    "df.drop(columns = ['day','month','year'],axis = 1,inplace = True)"
   ]
  },
  {
   "cell_type": "code",
   "execution_count": null,
   "id": "302434d1-c704-4614-b8d9-de827743e40d",
   "metadata": {},
   "outputs": [],
   "source": [
    "df.head()"
   ]
  },
  {
   "cell_type": "code",
   "execution_count": null,
   "id": "d9b37cc7-a491-4a64-8984-f2d11dc43c35",
   "metadata": {},
   "outputs": [],
   "source": [
    "df['Classes'].value_counts()"
   ]
  },
  {
   "cell_type": "code",
   "execution_count": null,
   "id": "98766910-ea45-4e0a-ad22-9ad1fac83d2f",
   "metadata": {},
   "outputs": [],
   "source": [
    "###independent and dependent feature\n",
    "x = df.drop('FWI',axis = 1)\n",
    "y = df['FWI']"
   ]
  },
  {
   "cell_type": "code",
   "execution_count": null,
   "id": "c90cce12-1680-482f-a91f-448e8d61eb96",
   "metadata": {},
   "outputs": [],
   "source": [
    "x.shape"
   ]
  },
  {
   "cell_type": "code",
   "execution_count": null,
   "id": "949ad8e0-b4cb-4472-ab9b-36d9957765d6",
   "metadata": {},
   "outputs": [],
   "source": [
    "y.shape"
   ]
  },
  {
   "cell_type": "code",
   "execution_count": null,
   "id": "67782019-ab56-4fc6-8325-6e1c6bebcf20",
   "metadata": {},
   "outputs": [],
   "source": [
    "## Train Test Split\n",
    "from sklearn.model_selection import train_test_split"
   ]
  },
  {
   "cell_type": "code",
   "execution_count": null,
   "id": "d398bbd8-0613-4bd5-a291-01af83e8e170",
   "metadata": {},
   "outputs": [],
   "source": [
    "x_train,x_test,y_train,y_test = train_test_split(x,y,test_size= 0.25,random_state=42) "
   ]
  },
  {
   "cell_type": "code",
   "execution_count": null,
   "id": "87e500b5-1a53-475e-8a37-554fde38a9b3",
   "metadata": {},
   "outputs": [],
   "source": [
    "x_train.shape,x_test.shape,y_train.shape,y_test.shape"
   ]
  },
  {
   "cell_type": "code",
   "execution_count": null,
   "id": "7897ecac-8a10-45a7-9903-f76b17c11837",
   "metadata": {},
   "outputs": [],
   "source": [
    "x_train.corr()"
   ]
  },
  {
   "cell_type": "code",
   "execution_count": null,
   "id": "8bf256ac-4e34-471c-9f37-e17d04064a67",
   "metadata": {},
   "outputs": [],
   "source": [
    "## Check for mulitcollinearity\n",
    "plt.figure(figsize = (15,10))\n",
    "corr = x_train.corr()\n",
    "sns.heatmap(corr,annot = True)"
   ]
  },
  {
   "cell_type": "code",
   "execution_count": null,
   "id": "ce2a8eb2-3ba4-48b3-8cb5-4320a95258e2",
   "metadata": {},
   "outputs": [],
   "source": [
    "def correlation(dataset,threshold):\n",
    "    col_corr = set()\n",
    "    corr_matrix = dataset.corr()\n",
    "    for i in range(len(corr_matrix.columns)):\n",
    "        for j in range(i):\n",
    "            if abs(corr_matrix.iloc[i,j]) > threshold:\n",
    "                colname = corr_matrix.columns[i]\n",
    "                col_corr.add(colname)\n",
    "    return col_corr\n",
    "        "
   ]
  },
  {
   "cell_type": "code",
   "execution_count": null,
   "id": "59750d6e-86b0-4c36-8b05-15f8bb06f582",
   "metadata": {},
   "outputs": [],
   "source": [
    "## thrshhold__Domain_expertise\n",
    "corr_features = correlation(x_train,0.85)"
   ]
  },
  {
   "cell_type": "code",
   "execution_count": null,
   "id": "30f77da9-05a0-40ca-810e-388fbcb61848",
   "metadata": {},
   "outputs": [],
   "source": [
    "### Drop the feature when correlation is higher than 0.85\n",
    "x_train.drop(corr_features,axis = 1,inplace = True)\n"
   ]
  },
  {
   "cell_type": "code",
   "execution_count": null,
   "id": "b17c0557-cc22-4978-bd64-f4c63295973d",
   "metadata": {},
   "outputs": [],
   "source": [
    "x_test.drop(corr_features,axis = 1,inplace = True)"
   ]
  },
  {
   "cell_type": "code",
   "execution_count": null,
   "id": "0a3771df-b6a4-4c21-9b4a-17f04bddad06",
   "metadata": {},
   "outputs": [],
   "source": [
    "x_train.shape,x_test.shape"
   ]
  },
  {
   "cell_type": "markdown",
   "id": "df5df2fd-7e18-4ad1-87eb-f4797e8f4d76",
   "metadata": {},
   "source": [
    "## Feature Scaling or standardization()"
   ]
  },
  {
   "cell_type": "code",
   "execution_count": null,
   "id": "f03ba1e7-affb-432a-b94a-b8f7f6653f9e",
   "metadata": {},
   "outputs": [],
   "source": [
    "from sklearn.preprocessing import StandardScaler"
   ]
  },
  {
   "cell_type": "code",
   "execution_count": null,
   "id": "70f03624-1b70-41c5-bee7-8248d57439a9",
   "metadata": {},
   "outputs": [],
   "source": [
    "scaler = StandardScaler()"
   ]
  },
  {
   "cell_type": "code",
   "execution_count": null,
   "id": "ac2f498e-3bb3-4dd5-82bc-a8700115f671",
   "metadata": {},
   "outputs": [],
   "source": [
    "x_train_scaled = scaler.fit_transform(x_train)\n",
    "x_test_scaled = scaler.transform(x_test)"
   ]
  },
  {
   "cell_type": "code",
   "execution_count": null,
   "id": "36d9f291-cd98-4034-bbcb-b076c30df32a",
   "metadata": {},
   "outputs": [],
   "source": [
    "x_train_scaled"
   ]
  },
  {
   "cell_type": "code",
   "execution_count": null,
   "id": "5f168f85-939b-4782-8f01-e3fde29ef362",
   "metadata": {},
   "outputs": [],
   "source": [
    "### BOx plot to understand the effect of standard scaler\n",
    "plt.figure(figsize = (15,7))\n",
    "plt.subplot(1,2,1)\n",
    "sns.boxplot(data = x_train)\n",
    "plt.title('X_train before Scaling')\n",
    "plt.subplot(1,2,2)\n",
    "sns.boxplot(data = x_train_scaled)\n",
    "plt.title('X_train after Scaling')\n",
    "plt.show()"
   ]
  },
  {
   "cell_type": "markdown",
   "id": "95a82b87-a571-41cc-8cfc-dcab0bcbb9e0",
   "metadata": {},
   "source": [
    "###   Linear Regression\n"
   ]
  },
  {
   "cell_type": "code",
   "execution_count": null,
   "id": "f7640c98-49f9-486a-a499-06a38e820dfc",
   "metadata": {},
   "outputs": [],
   "source": [
    "from sklearn.linear_model import LinearRegression\n",
    "from sklearn.metrics import mean_absolute_error\n",
    "from sklearn.metrics import r2_score"
   ]
  },
  {
   "cell_type": "code",
   "execution_count": null,
   "id": "44b54f56-26c3-497e-9ae4-59672397fb49",
   "metadata": {},
   "outputs": [],
   "source": [
    "model = LinearRegression(n_jobs=-1)"
   ]
  },
  {
   "cell_type": "code",
   "execution_count": null,
   "id": "d8452a70-e069-4f52-8e60-0036ec96c7f4",
   "metadata": {},
   "outputs": [],
   "source": [
    "model.fit(x_train_scaled,y_train)"
   ]
  },
  {
   "cell_type": "code",
   "execution_count": null,
   "id": "6589d6b9-e81e-47cc-a32b-c94c8d049fff",
   "metadata": {},
   "outputs": [],
   "source": [
    "y_pred = model.predict(x_test)\n",
    "mae = mean_absolute_error(y_pred,y_test)\n",
    "score = r2_score(y_pred,y_test)\n",
    "plt.scatter(y_test,y_pred)"
   ]
  },
  {
   "cell_type": "code",
   "execution_count": null,
   "id": "2e8bc19b-63df-4204-a7db-de5db377149d",
   "metadata": {},
   "outputs": [],
   "source": [
    "mae"
   ]
  },
  {
   "cell_type": "code",
   "execution_count": null,
   "id": "d3fffe4c-d668-4d34-80c1-cd16aefb741f",
   "metadata": {},
   "outputs": [],
   "source": [
    "score"
   ]
  },
  {
   "cell_type": "markdown",
   "id": "e721254b-be67-48df-a13f-554d6c288e07",
   "metadata": {},
   "source": [
    "### Lassso Model"
   ]
  },
  {
   "cell_type": "code",
   "execution_count": null,
   "id": "8b99c134-2037-4816-bb71-44bf0b15801e",
   "metadata": {},
   "outputs": [],
   "source": [
    "from sklearn.linear_model import Lasso\n",
    "from sklearn.metrics import mean_absolute_error\n",
    "from sklearn.metrics import r2_score\n",
    "model1 = Lasso()\n",
    "model1.fit(x_train_scaled,y_train)\n",
    "y_pred = model1.predict(x_test)\n",
    "mae = mean_absolute_error(y_pred,y_test)\n",
    "score = r2_score(y_pred,y_test)\n",
    "plt.scatter(y_test,y_pred)\n",
    "print(f'The mean absolute error:{mae}')\n",
    "print(f'The r2_score:{score} ')"
   ]
  },
  {
   "cell_type": "markdown",
   "id": "1511998d-d070-49d5-be64-3d39054e0d51",
   "metadata": {},
   "source": [
    "### Ridge regression"
   ]
  },
  {
   "cell_type": "code",
   "execution_count": null,
   "id": "07b616dd-708e-418a-a5ce-3d01ff76ca14",
   "metadata": {},
   "outputs": [],
   "source": [
    "from sklearn.linear_model import Ridge\n",
    "from sklearn.metrics import mean_absolute_error\n",
    "from sklearn.metrics import r2_score\n",
    "model2 = Ridge()\n",
    "model2.fit(x_train_scaled,y_train)\n",
    "y_pred = model2.predict(x_test)\n",
    "mae = mean_absolute_error(y_pred,y_test)\n",
    "score = r2_score(y_pred,y_test)\n",
    "plt.scatter(y_test,y_pred)\n",
    "print(f'The mean absolute error:{mae}')\n",
    "print(f'The r2_score:{score} ')"
   ]
  },
  {
   "cell_type": "markdown",
   "id": "bf4ac03a-a433-47c0-9bd5-7feaaf1ca4ac",
   "metadata": {},
   "source": [
    "### ElasticNet regression"
   ]
  },
  {
   "cell_type": "code",
   "execution_count": null,
   "id": "22029593-f1a6-473b-925d-2eaccc5d46f0",
   "metadata": {},
   "outputs": [],
   "source": [
    "from sklearn.linear_model import ElasticNet\n",
    "from sklearn.metrics import mean_absolute_error\n",
    "from sklearn.metrics import r2_score\n",
    "model3 = ElasticNet()\n",
    "model3.fit(x_train_scaled,y_train)\n",
    "y_pred = model3.predict(x_test)\n",
    "mae = mean_absolute_error(y_pred,y_test)\n",
    "score = r2_score(y_pred,y_test)\n",
    "plt.scatter(y_test,y_pred)\n",
    "print(f'The mean absolute error:{mae}')\n",
    "print(f'The r2_score:{score} ')"
   ]
  },
  {
   "cell_type": "markdown",
   "id": "c2b3aff6-4095-4c22-a6f8-328d4f3483d6",
   "metadata": {},
   "source": [
    "### Cross validation"
   ]
  },
  {
   "cell_type": "code",
   "execution_count": null,
   "id": "e6cdbaff-fcb0-40a8-9fcf-0bdc2e9efb89",
   "metadata": {},
   "outputs": [],
   "source": [
    "from sklearn.linear_model import LassoCV\n",
    "cv1 = LassoCV(cv=5)\n",
    "cv1.fit(x_train_scaled,y_train)"
   ]
  },
  {
   "cell_type": "code",
   "execution_count": null,
   "id": "48d61b0d-5ca4-4c82-86df-cb6bd4267f57",
   "metadata": {},
   "outputs": [],
   "source": [
    "cv1.predict(x_test_scaled)"
   ]
  },
  {
   "cell_type": "code",
   "execution_count": null,
   "id": "44c17337-fa58-474d-b3f8-2b1ee3509a28",
   "metadata": {},
   "outputs": [],
   "source": [
    "cv1.alpha_"
   ]
  },
  {
   "cell_type": "code",
   "execution_count": null,
   "id": "235fd6ef-21cb-41c1-b764-eecf88cfdb5f",
   "metadata": {},
   "outputs": [],
   "source": [
    "cv1.alphas_"
   ]
  },
  {
   "cell_type": "code",
   "execution_count": null,
   "id": "12d42d11-bf44-4c5c-8f5b-fdad6fe14d71",
   "metadata": {},
   "outputs": [],
   "source": [
    "y_pred = cv1.predict(x_test_scaled)\n",
    "plt.scatter(y_test,y_pred)\n",
    "mae = mean_absolute_error(y_pred,y_test)\n",
    "score = r2_score(y_pred,y_test)\n",
    "print(f'The mean absolute error:{mae}')\n",
    "print(f'The r2_score:{score} ')"
   ]
  },
  {
   "cell_type": "code",
   "execution_count": null,
   "id": "7bb37f62-7a7a-4f54-b2fb-6f86b76f7782",
   "metadata": {},
   "outputs": [],
   "source": []
  }
 ],
 "metadata": {
  "kernelspec": {
   "display_name": "Python 3 (ipykernel)",
   "language": "python",
   "name": "python3"
  },
  "language_info": {
   "codemirror_mode": {
    "name": "ipython",
    "version": 3
   },
   "file_extension": ".py",
   "mimetype": "text/x-python",
   "name": "python",
   "nbconvert_exporter": "python",
   "pygments_lexer": "ipython3",
   "version": "3.10.14"
  }
 },
 "nbformat": 4,
 "nbformat_minor": 5
}
